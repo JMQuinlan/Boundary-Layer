{
  "nbformat": 4,
  "nbformat_minor": 0,
  "metadata": {
    "colab": {
      "name": "Blasius_shooting.ipynb",
      "provenance": [],
      "collapsed_sections": [],
      "toc_visible": true,
      "authorship_tag": "ABX9TyMr9GZn7+u+AfrqpB3PU6MH",
      "include_colab_link": true
    },
    "kernelspec": {
      "name": "python3",
      "display_name": "Python 3"
    },
    "language_info": {
      "name": "python"
    }
  },
  "cells": [
    {
      "cell_type": "markdown",
      "metadata": {
        "id": "view-in-github",
        "colab_type": "text"
      },
      "source": [
        "<a href=\"https://colab.research.google.com/github/JMQuinlan/Boundary-Layer/blob/main/Blasius_shooting.ipynb\" target=\"_parent\"><img src=\"https://colab.research.google.com/assets/colab-badge.svg\" alt=\"Open In Colab\"/></a>"
      ]
    },
    {
      "cell_type": "markdown",
      "metadata": {
        "id": "y48nSsLFcvOB"
      },
      "source": [
        "#Integrate (solve) the Blasius Equation with the shooting method\n",
        "\n",
        "copyright 2021 - J. M. Quinlan  \n",
        "University of Colorado  \n",
        "Colorado Springs  \n",
        "\n",
        "In this notebook we integrate the Blasius Equation for boundary layer flow over a flat plat treating the BVP as a IVP."
      ]
    },
    {
      "cell_type": "code",
      "metadata": {
        "id": "U8Nr-CHccoLM"
      },
      "source": [
        "import numpy as np\n",
        "#import cmath\n",
        "#import math\n",
        "from scipy import integrate\n",
        "#from scipy import linalg\n",
        "#import scipy.fftpack\n",
        "from matplotlib.pylab import plt\n",
        "import matplotlib as mpl"
      ],
      "execution_count": 1,
      "outputs": []
    },
    {
      "cell_type": "code",
      "metadata": {
        "id": "ORVkpS6EfBbv"
      },
      "source": [
        "# Order of problem\n",
        "mx = 3\n",
        "\n",
        "# Define system parameters\n",
        "u = np.zeros((mx,1),dtype=complex) # Initial values for generalized coordinates\n",
        "u[0] = 0.\n",
        "u[1] = 0.\n",
        "u[2] = 0.3320594\n",
        "\n",
        "\n",
        "# Plotting stuff\n",
        "color1 = color=(0,0,0.6)\n",
        "color2 = color=(1,0,0)\n",
        "color3 = color=(0.2,1,0.2)\n",
        "fnmul = 2\n",
        "figdim = (3.25*fnmul,2.5*fnmul)\n",
        "# mpl.rc('text', usetex = True) # set if you want to use TeX for plot text\n",
        "mpl.rc('text', usetex = False) # Faster than TeX and only need extra 'r' as in: r'\\alpha'"
      ],
      "execution_count": 2,
      "outputs": []
    },
    {
      "cell_type": "code",
      "metadata": {
        "id": "t8e08821fJzC"
      },
      "source": [
        "# define system to be solved: du/dt = f(u,t)\n",
        "def sysde(t, u):\n",
        "    \"\"\"\n",
        "    Simple spring-mass-damper system - 2 DOF\n",
        "\n",
        "    f     = u[0] = Nondim. streamfunction\n",
        "    f'    = u[1] = Nondim. x-direction velocity\n",
        "    f''   = u[2] = Related to velocity gradient  \n",
        "    f'''  = u[3] = Related ot velocity curvature (comes from viscous term)\n",
        "\n",
        "    Returns \n",
        "    du/dt=[    u[1]          ]\n",
        "          [    u[2]          ]\n",
        "          [-1./2.*u[0] * u[2]]\n",
        "    \"\"\"\n",
        "\n",
        "    # Assign some variables for convenience of notation\n",
        "    #x1 = u[0]\n",
        "    #x2 = u[1]\n",
        "    #v1 = u[2]\n",
        "    #v2 = u[3]\n",
        "\n",
        "    # Output from ODE function must be a COLUMN vector, with n rows\n",
        "    n = len(u)\n",
        "    dudt = np.zeros((n,1),dtype=complex)\n",
        "    dudt[0] = u[1]\n",
        "    dudt[1] = u[2]\n",
        "    dudt[2] = -1./2.*u[0]*u[2]\n",
        "    \n",
        "    return dudt"
      ],
      "execution_count": 3,
      "outputs": []
    },
    {
      "cell_type": "code",
      "metadata": {
        "id": "uUKcVCSwhM-M"
      },
      "source": [
        "# Start by specifying the integrator:\n",
        "# use ``vode`` with \"backward differentiation formula\"\n",
        "r = integrate.ode(sysde).set_integrator('zvode', method='bdf')\n",
        "\n",
        "# Set the time range\n",
        "t_start = 0.0\n",
        "t_final = 25.0\n",
        "delta_t = 0.01\n",
        "# Number of time steps: 1 extra for initial condition\n",
        "num_steps = int(np.floor((t_final - t_start)/delta_t) + 1)\n",
        "\n",
        "# Set initial condition(s): for integrating variable and time\n",
        "#x1_t_zero = 0.5\n",
        "#T_t_zero = 295.0\n",
        "r.set_initial_value(u, t_start)\n",
        "#r.set_initial_value([CA_t_zero, T_t_zero], t_start)\n",
        "\n",
        "# Additional Python step: create vectors to store trajectories\n",
        "t = np.zeros((num_steps, 1))\n",
        "f0 = np.zeros((num_steps, 1),dtype=complex)\n",
        "f1 = np.zeros((num_steps, 1),dtype=complex)\n",
        "f2 = np.zeros((num_steps, 1),dtype=complex)\n",
        "data = np.zeros((mx,num_steps)) # Initial values for generalized coordinates\n",
        "t[0] = t_start\n",
        "f0[0] = u[0]\n",
        "f1[0] = u[1]\n",
        "f2[0] = u[2]\n",
        "data[:,0] = u.real.T\n",
        "\n",
        "# Integrate the ODE(s) across each delta_t timestep\n",
        "kk = 1\n",
        "while r.successful() and kk < num_steps:\n",
        "    r.integrate(r.t + delta_t)\n",
        "\n",
        "    # Store the results to plot later\n",
        "    t[kk] = r.t\n",
        "    f0[kk] = r.y[0]\n",
        "    f1[kk] = r.y[1]\n",
        "    f2[kk] = r.y[2]\n",
        "    data[:,kk] = r.y.real.T\n",
        "    kk += 1\n",
        "\n",
        "# Plot the trajectories in two separate plots:\n",
        "fig = plt.figure(22)\n",
        "ax1 = plt.subplot(111)\n",
        "# ax1.plot(t, f0.real, 'b')\n",
        "ax1.plot(t, f1.real, 'r')\n",
        "ax1.plot(t, f2.real, 'g')\n",
        "ax1.set_xlim(t_start, 6.)\n",
        "ax1.set_xlabel(r'$\\eta$')\n",
        "ax1.set_ylabel(\" f', f'' \")\n",
        "ax1.grid('on')\n",
        "\n",
        "# ax2 = plt.subplot(212)\n",
        "# ax2.plot(t, v1.real, 'b')\n",
        "# ax2.plot(t, v2.real, 'r')\n",
        "# ax2.set_xlim(t_start, t_final)\n",
        "# ax2.set_xlabel('Time [s]')\n",
        "# ax2.set_ylabel('Velocity [m]')\n",
        "# ax2.grid('on')\n",
        "\n",
        "# Save figure\n",
        "fig.savefig('testfig.eps')\n",
        "fig.savefig('testfig.pdf')\n",
        "# Show figure\n",
        "#plt.show()\n",
        "plt.close()"
      ],
      "execution_count": 4,
      "outputs": []
    },
    {
      "cell_type": "code",
      "metadata": {
        "colab": {
          "base_uri": "https://localhost:8080/"
        },
        "id": "1kvR5FFGwx0-",
        "outputId": "8e323c68-6dc8-4a3e-891a-0a2d2f4474a4"
      },
      "source": [
        "print(f1[-1])"
      ],
      "execution_count": 5,
      "outputs": [
        {
          "output_type": "stream",
          "text": [
            "[1.00000001+0.j]\n"
          ],
          "name": "stdout"
        }
      ]
    },
    {
      "cell_type": "code",
      "metadata": {
        "colab": {
          "base_uri": "https://localhost:8080/"
        },
        "id": "zFvPbGlrv59Y",
        "outputId": "c756b587-39d4-4066-ec44-f3bab6d6dcec"
      },
      "source": [
        "print(f1[491])\n",
        "print(t[491])"
      ],
      "execution_count": 6,
      "outputs": [
        {
          "output_type": "stream",
          "text": [
            "[0.99000024+0.j]\n",
            "[4.91]\n"
          ],
          "name": "stdout"
        }
      ]
    }
  ]
}