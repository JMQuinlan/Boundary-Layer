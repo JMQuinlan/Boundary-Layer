{
  "nbformat": 4,
  "nbformat_minor": 0,
  "metadata": {
    "colab": {
      "name": "Blasius_shooting.ipynb",
      "provenance": [],
      "collapsed_sections": [],
      "toc_visible": true,
      "authorship_tag": "ABX9TyM2JEqy7/zheltBEFeX8Oix",
      "include_colab_link": true
    },
    "kernelspec": {
      "name": "python3",
      "display_name": "Python 3"
    },
    "language_info": {
      "name": "python"
    }
  },
  "cells": [
    {
      "cell_type": "markdown",
      "metadata": {
        "id": "view-in-github",
        "colab_type": "text"
      },
      "source": [
        "<a href=\"https://colab.research.google.com/github/JMQuinlan/Boundary-Layer/blob/main/Blasius_shooting.ipynb\" target=\"_parent\"><img src=\"https://colab.research.google.com/assets/colab-badge.svg\" alt=\"Open In Colab\"/></a>"
      ]
    },
    {
      "cell_type": "markdown",
      "metadata": {
        "id": "y48nSsLFcvOB"
      },
      "source": [
        "#Integrate (solve) the Blasius Equation with the shooting method\n",
        "\n",
        "copyright 2021 - J. M. Quinlan  \n",
        "University of Colorado  \n",
        "Colorado Springs  \n",
        "\n",
        "In this notebook we integrate the Blasius Equation for boundary layer flow over a flat plat treating the BVP as a IVP.\n",
        "\n",
        "The Navier-Stokes equations reduce to the nondimensional Boundary Layer Equations for high-Reynolds numbers:\n",
        "$$\\frac{\\partial u}{\\partial x} + \\frac{\\partial v}{\\partial y}  = 0 $$  \n",
        "\n",
        "$$\\frac{\\partial u}{\\partial t} + u \\frac{\\partial u}{\\partial x} + v \\frac{\\partial u}{\\partial y} =  \\underbrace{U_e \\frac{\\partial U_e}{\\partial x}}_{\\textstyle -~ \\dfrac{\\mathrm{d} p}{\\mathrm{d} x}}\n",
        "      +   \\frac{1}{\\mathrm{Re}} \\frac{\\partial^2 u}{\\partial y^2}$$\n",
        "\n",
        "Where the pressure gradient (or exterior flow $U_e$) is prescribed--imposed on the boundary layer.\n",
        "\n",
        "For the flat plate aligned with a steady, uniform flow the pressure gradient must be zero.\n",
        "Further, assuming the outer, potential flow is steady yields:\n",
        "\n",
        "$$ u \\frac{\\partial u}{\\partial x} + v \\frac{\\partial u}{\\partial y} =  \\frac{1}{\\mathrm{Re}} \\frac{\\partial^2 u}{\\partial y^2}$$\n",
        "\n",
        "Defining a similarity variable:\n",
        "\n",
        "$$\\eta \\equiv \\frac{y}{\\sqrt{x}} =\\frac{y^*}{\\sqrt{\\dfrac{\\nu^*\\,x^*}{U_\\infty^*}}} =y^*\\sqrt{\\frac{U_\\infty^*}{\\nu^*\\,x^*}}$$\n",
        "\n",
        "And a nondimensional streamfunction as:\n",
        "\n",
        "$$f(\\eta) \\equiv \\frac{\\Psi^*}{\\nu^*\\, x^*\\, U_\\infty^*}$$\n",
        "\n",
        "The governing equation (Continuity satisfied automatically by the streamfunction) is:\n",
        "\n",
        "$$ f''' + \\frac{1}{2} f\\,f'' = 0 $$\n",
        "\n",
        "Where the primes represent the derivative with respect to $\\eta$.\n",
        "\n",
        "And boundary conditions:\n",
        "$$f(\\eta=0) = 0 $$\n",
        "$$   f'(\\eta = 0) = 0 $$\n",
        "$$   f'(\\eta \\rightarrow \\infty) \\rightarrow 1 $$  \n",
        "\n",
        "This third-order ODE problem is a BVP, but we can integrate it like an IVP by iterating on a fictitious initial value for $f''(0)$ and checking to see if the solution matches the final boundary condition.\n",
        "___"
      ]
    },
    {
      "cell_type": "markdown",
      "metadata": {
        "id": "0vgzEkYiBhia"
      },
      "source": [
        "Note that this is not intended to be instructive for how you would code this to solve for these values, for instance using a random walk root finder to find the correct value of $f''(0)$.\n",
        "Quite the opposite, the code forces you to do the iteration by hand but give you all of the pieces in very few lines of code.\n",
        "\n",
        "Let's get started.\n",
        "\n",
        "Import required libraries:"
      ]
    },
    {
      "cell_type": "code",
      "metadata": {
        "id": "U8Nr-CHccoLM"
      },
      "source": [
        "import numpy as np\n",
        "from scipy import integrate\n",
        "from matplotlib.pylab import plt\n",
        "import matplotlib as mpl"
      ],
      "execution_count": null,
      "outputs": []
    },
    {
      "cell_type": "markdown",
      "metadata": {
        "id": "PVKtcFTeAWCf"
      },
      "source": [
        "Here we setup the known initial conditions at $\\eta = 0$: $f(0) = 0$ and $f'(0) = 0$.\n",
        "Then we also guess the ``initial condition'' for $f''(0)$, and iterate to get $f'(\\eta \\rightarrow \\infty) \\rightarrow 1$.\n",
        "\n",
        "To start, pick a value for:\n",
        "```\n",
        "u[2]\n",
        "```\n",
        "and iterate."
      ]
    },
    {
      "cell_type": "code",
      "metadata": {
        "id": "ORVkpS6EfBbv"
      },
      "source": [
        "# Order of problem\n",
        "mx = 3\n",
        "\n",
        "# Define system parameters\n",
        "u = np.zeros((mx,1),dtype=complex) # Initial values for generalized coordinates (for this problem there is no need for this to be complex)\n",
        "u[0] = 0.\n",
        "u[1] = 0.\n",
        "u[2] = 0.3320594\n",
        "\n",
        "# Plotting stuff\n",
        "color1 = color=(0,0,0.6)\n",
        "color2 = color=(1,0,0)\n",
        "color3 = color=(0.2,1,0.2)\n",
        "fnmul = 2\n",
        "figdim = (3.25*fnmul,2.5*fnmul)\n",
        "# mpl.rc('text', usetex = True) # set if you want to use TeX for plot text\n",
        "mpl.rc('text', usetex = False) # Faster than TeX and only need extra 'r' as in: r'$ \\alpha $'"
      ],
      "execution_count": null,
      "outputs": []
    },
    {
      "cell_type": "markdown",
      "metadata": {
        "id": "cABWIx90BFY4"
      },
      "source": [
        "Define the system of first-order differential equations as a Python function (input $u$ and return $u'$):"
      ]
    },
    {
      "cell_type": "code",
      "metadata": {
        "id": "t8e08821fJzC"
      },
      "source": [
        "# define system to be solved: du/dt = f(u,t)\n",
        "def sysde(t, u):\n",
        "    \"\"\"\n",
        "    Simple spring-mass-damper system - 2 DOF\n",
        "\n",
        "    f     = u[0] = Nondim. streamfunction\n",
        "    f'    = u[1] = Nondim. x-direction velocity\n",
        "    f''   = u[2] = Related to velocity gradient and hence the shear stress at the wall \n",
        "    f'''  = u[3] = Related to velocity curvature (comes from viscous term)\n",
        "\n",
        "    Returns \n",
        "    du/dt=[    u[1]          ]\n",
        "          [    u[2]          ]\n",
        "          [-1./2.*u[0] * u[2]]\n",
        "    \"\"\"\n",
        "\n",
        "    # Assign some variables for convenience of notation\n",
        "    # f         = u[0]\n",
        "    # f'   = G  = u[1]\n",
        "    # f''  = H  = u[2]\n",
        "    # f''' = H' = u[3]\n",
        "\n",
        "    # Output from ODE function must be a COLUMN vector, with n rows\n",
        "    n = len(u)\n",
        "    dudt = np.zeros((n,1),dtype=complex)\n",
        "    dudt[0] = u[1]\n",
        "    dudt[1] = u[2]\n",
        "    dudt[2] = -1./2.*u[0]*u[2]\n",
        "    \n",
        "    return dudt"
      ],
      "execution_count": null,
      "outputs": []
    },
    {
      "cell_type": "markdown",
      "metadata": {
        "id": "aS1i7eJSBZIb"
      },
      "source": [
        "Perform the integration and plot:"
      ]
    },
    {
      "cell_type": "code",
      "metadata": {
        "id": "uUKcVCSwhM-M",
        "colab": {
          "base_uri": "https://localhost:8080/",
          "height": 281
        },
        "outputId": "ba8b58db-00f1-4016-b4e3-f2e73923193e"
      },
      "source": [
        "# Start by specifying the integrator:\n",
        "# use ``vode`` with \"backward differentiation formula\"\n",
        "r = integrate.ode(sysde).set_integrator('zvode', method='bdf')\n",
        "\n",
        "# Set the time range (inthis case eta is acting as the time variable)\n",
        "t_start = 0.0\n",
        "t_final = 25.0\n",
        "delta_t = 0.01\n",
        "# Number of time steps: 1 extra for initial condition\n",
        "num_steps = int(np.floor((t_final - t_start)/delta_t) + 1)\n",
        "\n",
        "# Set initial condition(s): for integrating variable and time\n",
        "r.set_initial_value(u, t_start)\n",
        "\n",
        "# Additional Python step: create vectors to store trajectories\n",
        "t = np.zeros((num_steps, 1))\n",
        "f0 = np.zeros((num_steps, 1),dtype=complex)\n",
        "f1 = np.zeros((num_steps, 1),dtype=complex)\n",
        "f2 = np.zeros((num_steps, 1),dtype=complex)\n",
        "data = np.zeros((mx,num_steps)) # Initial values for generalized coordinates\n",
        "t[0] = t_start\n",
        "f0[0] = u[0]\n",
        "f1[0] = u[1]\n",
        "f2[0] = u[2]\n",
        "data[:,0] = u.real.T\n",
        "\n",
        "# Integrate the ODE(s) across each delta_t timestep\n",
        "kk = 1\n",
        "while r.successful() and kk < num_steps:\n",
        "    r.integrate(r.t + delta_t)\n",
        "\n",
        "    # Store the results to plot later\n",
        "    t[kk] = r.t\n",
        "    f0[kk] = r.y[0]\n",
        "    f1[kk] = r.y[1]\n",
        "    f2[kk] = r.y[2]\n",
        "    data[:,kk] = r.y.real.T\n",
        "    kk += 1\n",
        "\n",
        "# Plot the trajectories in two separate plots:\n",
        "fig = plt.figure(22)\n",
        "ax1 = plt.subplot(111)\n",
        "# ax1.plot(t, f0.real, 'b')\n",
        "ax1.plot(t, f1.real, 'r')\n",
        "ax1.plot(t, f2.real, 'g')\n",
        "ax1.set_xlim(t_start, 6.)\n",
        "ax1.set_xlabel(r'$\\eta$')\n",
        "ax1.set_ylabel(\" f', f'' \")\n",
        "ax1.grid('on')\n",
        "\n",
        "# Save figure\n",
        "fig.savefig('Blasius.eps')\n",
        "fig.savefig('Blasius.pdf')\n",
        "# Show figure\n",
        "plt.show()\n",
        "plt.close()"
      ],
      "execution_count": null,
      "outputs": [
        {
          "output_type": "display_data",
          "data": {
            "image/png": "[encoded data removed]",
            "text/plain": [
              "<Figure size 432x288 with 1 Axes>"
            ]
          },
          "metadata": {
            "tags": [],
            "needs_background": "light"
          }
        }
      ]
    },
    {
      "cell_type": "markdown",
      "metadata": {
        "id": "875KjaFZ_D7C"
      },
      "source": [
        "Does the IVP produce the value requied to meet the BVP?\n",
        "In other words, does $f'(\\eta \\rightarrow \\infty) \\rightarrow 1$?"
      ]
    },
    {
      "cell_type": "code",
      "metadata": {
        "colab": {
          "base_uri": "https://localhost:8080/"
        },
        "id": "1kvR5FFGwx0-",
        "outputId": "9025db38-0db7-4b21-bc34-fae5b90571d1"
      },
      "source": [
        "print(f1[-1])"
      ],
      "execution_count": null,
      "outputs": [
        {
          "output_type": "stream",
          "text": [
            "[1.00000001+0.j]\n"
          ],
          "name": "stdout"
        }
      ]
    },
    {
      "cell_type": "markdown",
      "metadata": {
        "id": "-evK4KMQ_f3B"
      },
      "source": [
        "Let's define the boundary layer thickness as the distance from the wall to the point at which the velocity reaches 99\\% of the free-stream velocity.\n",
        "\n",
        "Find the index for which $f' = 0.99$ and print the value of $\\eta_{\\,0.99} = 4.91 \\approx 5$."
      ]
    },
    {
      "cell_type": "code",
      "metadata": {
        "colab": {
          "base_uri": "https://localhost:8080/"
        },
        "id": "zFvPbGlrv59Y",
        "outputId": "57450e20-4962-4180-e337-02ce09db04da"
      },
      "source": [
        "print(f1[491])\n",
        "print(t[491])"
      ],
      "execution_count": null,
      "outputs": [
        {
          "output_type": "stream",
          "text": [
            "[0.99000024+0.j]\n",
            "[4.91]\n"
          ],
          "name": "stdout"
        }
      ]
    },
    {
      "cell_type": "markdown",
      "metadata": {
        "id": "ZLlriKfiNYCc"
      },
      "source": [
        "As a result of our theory and numerical simulation we see that the boundary layer thickness grows as:\n",
        "$$ \\delta \\equiv \\frac{\\delta^*}{x^*} = \\frac{5}{\\sqrt{\\mathrm{Re,_x}}~} $$"
      ]
    },
    {
      "cell_type": "markdown",
      "metadata": {
        "id": "GHtFdCT9YKOJ"
      },
      "source": [
        "___\n",
        "A few measures that you could now calulate are (in terms of nondimensional and dimensional quantities):  \n",
        "\n",
        "$v_e$: the $y$-direction velocity at the edge of the boundary layer ($\\ne 0$, due to displacment effects)\n",
        "\n",
        "$\\tau_w$: the shear stress at the wall\n",
        "\n",
        "$\\delta_1$: the displacment thickness\n",
        "\n",
        "$\\delta_2$: the momentum thickness\n",
        "\n",
        "$\\frac{\\delta_1}{\\delta}$: body shape change\n",
        "\n",
        "$\\frac{\\delta_2}{\\delta}$: relitive thicness of the momentum thickness and the boundary layer thickness (note that this is $<< 1$)\n",
        "\n"
      ]
    }
  ]
}